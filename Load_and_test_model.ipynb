{
  "nbformat": 4,
  "nbformat_minor": 0,
  "metadata": {
    "colab": {
      "provenance": [],
      "collapsed_sections": [],
      "authorship_tag": "ABX9TyP/yBr79cDbiKbH2Ki207pK",
      "include_colab_link": true
    },
    "kernelspec": {
      "name": "python3",
      "display_name": "Python 3"
    },
    "language_info": {
      "name": "python"
    }
  },
  "cells": [
    {
      "cell_type": "markdown",
      "metadata": {
        "id": "view-in-github",
        "colab_type": "text"
      },
      "source": [
        "<a href=\"https://colab.research.google.com/github/Batek26/Finding-edgepoints-of-line---CNN/blob/main/Load_and_test_model.ipynb\" target=\"_parent\"><img src=\"https://colab.research.google.com/assets/colab-badge.svg\" alt=\"Open In Colab\"/></a>"
      ]
    },
    {
      "cell_type": "code",
      "execution_count": 1,
      "metadata": {
        "id": "znWF646hDiin"
      },
      "outputs": [],
      "source": [
        "import numpy as np\n",
        "from google.colab.patches import cv2_imshow\n",
        "import cv2\n",
        "import copy\n",
        "from keras.models import *\n",
        "from keras.layers import *\n",
        "from keras.optimizers import *\n",
        "from sklearn.model_selection import train_test_split\n",
        "import matplotlib.pyplot as plt"
      ]
    },
    {
      "cell_type": "code",
      "source": [
        "def create_white_background():\n",
        "  img = np.zeros([64, 64],dtype=np.uint8)\n",
        "  img[:] = 255\n",
        "  return img"
      ],
      "metadata": {
        "id": "J7ZzoArRDl2s"
      },
      "execution_count": 2,
      "outputs": []
    },
    {
      "cell_type": "code",
      "source": [
        "def model_test_function():\n",
        "  \n",
        "  start_point = (np.random.randint(0, 64), np.random.randint(0, 64))\n",
        "  end_point = (np.random.randint(0, 64), np.random.randint(0, 64))\n",
        "  tmp = create_white_background()\n",
        "  line_to_predict = cv2.line(tmp, start_point, end_point, (0,0,0), 1)\n",
        "  line_to_predict = line_to_predict.reshape(1, 64, 64, 1)\n",
        "  line_to_predict = line_to_predict.astype('float32') / 255\n",
        "\n",
        "  endpoints_predicted = model.predict(line_to_predict)\n",
        "\n",
        "  print('Image of random line to predict:')\n",
        "  cv2_imshow(line_to_predict[0] * 255)\n",
        "  print('Predicted image with edgepoints:')\n",
        "  cv2_imshow(endpoints_predicted[0] * 255)\n",
        "\n",
        "  factor = 0.5\n",
        "  tries = 1\n",
        "  max_tries = 1000\n",
        "\n",
        "  while len(np.where(endpoints_predicted[0] < factor)[0]) != 2 and tries < 1000:\n",
        "    if len(np.where(endpoints_predicted[0] < factor)[0]) < 2:\n",
        "      factor += 0.02\n",
        "    elif len(np.where(endpoints_predicted[0] < factor)[0]) > 2:\n",
        "      factor -= 0.02\n",
        "    elif len(np.where(endpoints_predicted[0] < factor)[0]) == 2:\n",
        "      predicted_start_point = (np.where(endpoints_predicted[0] < factor)[1][1], np.where(endpoints_predicted[0] < factor)[0][1])\n",
        "      predicted_end_point = (np.where(endpoints_predicted[0] < factor)[1][0], np.where(endpoints_predicted[0] < factor)[0][0])\n",
        "    tries += 1\n",
        "  \n",
        "  if len(np.where(endpoints_predicted[0] < factor)[0]) == 2:\n",
        "    predicted_start_point = (np.where(endpoints_predicted[0] < factor)[1][1], np.where(endpoints_predicted[0] < factor)[0][1])\n",
        "    predicted_end_point = (np.where(endpoints_predicted[0] < factor)[1][0], np.where(endpoints_predicted[0] < factor)[0][0])\n",
        "    print(f'Number of tries: {tries}')\n",
        "    print(f'Final factor: {factor:.2f}')\n",
        "    print(f'Predicted points: {predicted_start_point}, {predicted_end_point}')\n",
        "    print(f'Actual points: {start_point}, {end_point}')\n",
        "  elif tries == 1000:\n",
        "    print(f'Number of tries: {tries}')\n",
        "    print(f'Final factor: {factor}')\n",
        "    print('Finding points failed')"
      ],
      "metadata": {
        "id": "ND3r2CpPDozN"
      },
      "execution_count": 3,
      "outputs": []
    },
    {
      "cell_type": "code",
      "source": [
        "model = load_model('walksee_task_model.h5')\n",
        "model.summary()"
      ],
      "metadata": {
        "id": "L5X9L8EXDy8Z"
      },
      "execution_count": 4,
      "outputs": []
    },
    {
      "cell_type": "code",
      "source": [
        "model_test_function()"
      ],
      "metadata": {
        "colab": {
          "base_uri": "https://localhost:8080/",
          "height": 272
        },
        "id": "e_mnICcCD6b6",
        "outputId": "c78f222c-3781-4f31-d72a-cdf4b56d254a"
      },
      "execution_count": 7,
      "outputs": [
        {
          "output_type": "stream",
          "name": "stdout",
          "text": [
            "1/1 [==============================] - 0s 32ms/step\n",
            "Image of random line to predict:\n"
          ]
        },
        {
          "output_type": "display_data",
          "data": {
            "text/plain": [
              "<PIL.Image.Image image mode=RGB size=64x64 at 0x7F14B33CF050>"
            ],
            "image/png": "[encoded data removed]"
          },
          "metadata": {}
        },
        {
          "output_type": "stream",
          "name": "stdout",
          "text": [
            "Predicted image with edgepoints:\n"
          ]
        },
        {
          "output_type": "display_data",
          "data": {
            "text/plain": [
              "<PIL.Image.Image image mode=RGB size=64x64 at 0x7F14B4B86590>"
            ],
            "image/png": "[encoded data removed]"
          },
          "metadata": {}
        },
        {
          "output_type": "stream",
          "name": "stdout",
          "text": [
            "Number of tries: 17\n",
            "Final factor: 0.82\n",
            "Predicted points: (29, 58), (28, 58)\n",
            "Actual points: (28, 58), (43, 59)\n"
          ]
        }
      ]
    }
  ]
}