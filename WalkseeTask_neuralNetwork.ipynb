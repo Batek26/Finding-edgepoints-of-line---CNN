{
  "nbformat": 4,
  "nbformat_minor": 0,
  "metadata": {
    "colab": {
      "provenance": [],
      "collapsed_sections": [],
      "include_colab_link": true
    },
    "kernelspec": {
      "name": "python3",
      "display_name": "Python 3"
    },
    "language_info": {
      "name": "python"
    }
  },
  "cells": [
    {
      "cell_type": "markdown",
      "metadata": {
        "id": "view-in-github",
        "colab_type": "text"
      },
      "source": [
        "<a href=\"https://colab.research.google.com/github/Batek26/Finding-edgepoints-of-line---CNN/blob/main/WalkseeTask_neuralNetwork.ipynb\" target=\"_parent\"><img src=\"https://colab.research.google.com/assets/colab-badge.svg\" alt=\"Open In Colab\"/></a>"
      ]
    },
    {
      "cell_type": "markdown",
      "source": [
        "Library import"
      ],
      "metadata": {
        "id": "ToO9tB56NNN6"
      }
    },
    {
      "cell_type": "code",
      "source": [
        "import numpy as np\n",
        "from google.colab.patches import cv2_imshow\n",
        "import cv2\n",
        "import copy\n",
        "from keras.models import *\n",
        "from keras.layers import *\n",
        "from keras.optimizers import *\n",
        "from sklearn.model_selection import train_test_split\n",
        "import matplotlib.pyplot as plt"
      ],
      "metadata": {
        "id": "u8NbuF5UNPuJ"
      },
      "execution_count": 1,
      "outputs": []
    },
    {
      "cell_type": "markdown",
      "source": [
        "Function definitions"
      ],
      "metadata": {
        "id": "YwjbtiB_xoMa"
      }
    },
    {
      "cell_type": "code",
      "execution_count": 2,
      "metadata": {
        "id": "TtIrxx2hFtdZ"
      },
      "outputs": [],
      "source": [
        "def create_white_background():\n",
        "  img = np.zeros([64, 64],dtype=np.uint8)\n",
        "  img[:] = 255\n",
        "  return img"
      ]
    },
    {
      "cell_type": "code",
      "source": [
        "def create_endpoints_arrays(arr_start, arr_end, img_number):\n",
        "  for i in range(img_number):\n",
        "    arr_start.append((np.random.randint(0, 64), np.random.randint(0, 64)))\n",
        "    arr_end.append((np.random.randint(0, 64), np.random.randint(0, 64)))\n",
        "  return arr_start, arr_end"
      ],
      "metadata": {
        "id": "jU5eHWwwHcuv"
      },
      "execution_count": 3,
      "outputs": []
    },
    {
      "cell_type": "code",
      "source": [
        "def create_dataset(arr_data_img, arr_label_img, img_number):\n",
        "  color = (0, 0, 0)\n",
        "  thickness = 1\n",
        "  for i in range(img_number):\n",
        "    tmp = create_white_background()\n",
        "    arr_data_img.append(cv2.line(tmp, arr_start[i], arr_end[i], color, thickness))\n",
        "    tmp = create_white_background()\n",
        "    tmp_label_img = cv2.circle(tmp, arr_start[i], radius=0, color = color, thickness = thickness)\n",
        "    tmp_label_img = cv2.circle(tmp_label_img, arr_end[i], radius=0, color = color, thickness = thickness)\n",
        "    arr_label_img.append(tmp_label_img)\n",
        "  arr_data_img = np.array(arr_data_img)\n",
        "  arr_label_img = np.array(arr_label_img)\n",
        "  return arr_data_img, arr_label_img"
      ],
      "metadata": {
        "id": "bSw3Wgk0txyV"
      },
      "execution_count": 4,
      "outputs": []
    },
    {
      "cell_type": "code",
      "source": [
        "def based_model(input_img):\n",
        "\n",
        "    conv1 = Conv2D(64, 3, activation='relu', padding = 'same')(input_img)\n",
        "    conv1 = Conv2D(64, 3, activation='relu', padding = 'same')(conv1)\n",
        "    conv1 = Conv2D(64, 3, activation='relu', padding = 'same')(conv1)\n",
        "    pool1 = MaxPooling2D(pool_size=(2, 2))(conv1)\n",
        "    batch1 = BatchNormalization()(pool1)\n",
        "    drop1 = Dropout(0.5)(batch1)\n",
        "\n",
        "    up3 = Conv2D(16, 2, activation = 'relu', padding = 'same')(UpSampling2D(size = (2,2))(drop1))\n",
        "\n",
        "    outputs = Conv2D(1, (1, 1), activation='sigmoid') (up3)\n",
        "    model = Model(inputs=[input_img], outputs=[outputs])\n",
        "    model.compile(optimizer = Adam(learning_rate=0.0001), loss = 'binary_crossentropy', metrics = ['accuracy'])\n",
        "    model.summary()\n",
        "\n",
        "    return model"
      ],
      "metadata": {
        "id": "1tO5CZHw-nCe"
      },
      "execution_count": 5,
      "outputs": []
    },
    {
      "cell_type": "code",
      "source": [
        "def model_test_function():\n",
        "  \n",
        "  start_point = (np.random.randint(0, 64), np.random.randint(0, 64))\n",
        "  end_point = (np.random.randint(0, 64), np.random.randint(0, 64))\n",
        "  tmp = create_white_background()\n",
        "  line_to_predict = cv2.line(tmp, start_point, end_point, (0,0,0), 1)\n",
        "  line_to_predict = line_to_predict.reshape(1, 64, 64, 1)\n",
        "  line_to_predict = line_to_predict.astype('float32') / 255\n",
        "\n",
        "  endpoints_predicted = model.predict(line_to_predict)\n",
        "\n",
        "  print('Image of random line to predict:')\n",
        "  cv2_imshow(line_to_predict[0] * 255)\n",
        "  print('Predicted image with edgepoints:')\n",
        "  cv2_imshow(endpoints_predicted[0] * 255)\n",
        "\n",
        "  factor = 0.5\n",
        "  tries = 1\n",
        "  max_tries = 1000\n",
        "\n",
        "  while len(np.where(endpoints_predicted[0] < factor)[0]) != 2 and tries < 1000:\n",
        "    if len(np.where(endpoints_predicted[0] < factor)[0]) < 2:\n",
        "      factor += 0.02\n",
        "    elif len(np.where(endpoints_predicted[0] < factor)[0]) > 2:\n",
        "      factor -= 0.02\n",
        "    elif len(np.where(endpoints_predicted[0] < factor)[0]) == 2:\n",
        "      predicted_start_point = (np.where(endpoints_predicted[0] < factor)[1][1], np.where(endpoints_predicted[0] < factor)[0][1])\n",
        "      predicted_end_point = (np.where(endpoints_predicted[0] < factor)[1][0], np.where(endpoints_predicted[0] < factor)[0][0])\n",
        "    tries += 1\n",
        "  \n",
        "  if len(np.where(endpoints_predicted[0] < factor)[0]) == 2:\n",
        "    predicted_start_point = (np.where(endpoints_predicted[0] < factor)[1][1], np.where(endpoints_predicted[0] < factor)[0][1])\n",
        "    predicted_end_point = (np.where(endpoints_predicted[0] < factor)[1][0], np.where(endpoints_predicted[0] < factor)[0][0])\n",
        "    print(f'Number of tries: {tries}')\n",
        "    print(f'Final factor: {factor:.2f}')\n",
        "    print(f'Predicted points: {predicted_start_point}, {predicted_end_point}')\n",
        "    print(f'Actual points: {start_point}, {end_point}')\n",
        "  elif tries == 1000:\n",
        "    print(f'Number of tries: {tries}')\n",
        "    print(f'Final factor: {factor}')\n",
        "    print('Finding points failed')"
      ],
      "metadata": {
        "id": "KJNSvQHG4bXy"
      },
      "execution_count": 6,
      "outputs": []
    },
    {
      "cell_type": "markdown",
      "source": [
        "Preparing data"
      ],
      "metadata": {
        "id": "vh2ji3Kc4nA5"
      }
    },
    {
      "cell_type": "code",
      "source": [
        "img_number = 2000"
      ],
      "metadata": {
        "id": "T9QjevFxtH9v"
      },
      "execution_count": 7,
      "outputs": []
    },
    {
      "cell_type": "code",
      "source": [
        "arr_start, arr_end = create_endpoints_arrays([], [], img_number)"
      ],
      "metadata": {
        "id": "Hj9bXHVZs4rk"
      },
      "execution_count": 8,
      "outputs": []
    },
    {
      "cell_type": "code",
      "source": [
        "arr_data_img, arr_label_img = create_dataset([], [], img_number)"
      ],
      "metadata": {
        "id": "iU-oj57JtnWM"
      },
      "execution_count": 9,
      "outputs": []
    },
    {
      "cell_type": "code",
      "source": [
        "cv2_imshow(arr_data_img[50])"
      ],
      "metadata": {
        "colab": {
          "base_uri": "https://localhost:8080/",
          "height": 81
        },
        "id": "QkgcVd-In3rb",
        "outputId": "d4b12bb6-ba15-402c-d0ec-3d975bab5403"
      },
      "execution_count": 10,
      "outputs": [
        {
          "output_type": "display_data",
          "data": {
            "text/plain": [
              "<PIL.Image.Image image mode=L size=64x64 at 0x7F1280C5DA10>"
            ],
            "image/png": "[encoded data removed]"
          },
          "metadata": {}
        }
      ]
    },
    {
      "cell_type": "code",
      "source": [
        "cv2_imshow(arr_label_img[50])"
      ],
      "metadata": {
        "colab": {
          "base_uri": "https://localhost:8080/",
          "height": 81
        },
        "id": "WEd3D3UW6jY2",
        "outputId": "afa4bc26-df34-4c92-a879-5a4c3cbcbf68"
      },
      "execution_count": 11,
      "outputs": [
        {
          "output_type": "display_data",
          "data": {
            "text/plain": [
              "<PIL.Image.Image image mode=L size=64x64 at 0x7F1280B16090>"
            ],
            "image/png": "[encoded data removed]"
          },
          "metadata": {}
        }
      ]
    },
    {
      "cell_type": "code",
      "source": [
        "arr_start[50]"
      ],
      "metadata": {
        "colab": {
          "base_uri": "https://localhost:8080/"
        },
        "id": "whvdePuv63Vs",
        "outputId": "8b8a342c-1675-4bf7-eca1-d1d28eeb3616"
      },
      "execution_count": 12,
      "outputs": [
        {
          "output_type": "execute_result",
          "data": {
            "text/plain": [
              "(57, 20)"
            ]
          },
          "metadata": {},
          "execution_count": 12
        }
      ]
    },
    {
      "cell_type": "code",
      "source": [
        "arr_end[50]"
      ],
      "metadata": {
        "colab": {
          "base_uri": "https://localhost:8080/"
        },
        "id": "w9F-F91766Qc",
        "outputId": "36e47919-3649-40f0-9f59-18896f025bcf"
      },
      "execution_count": 13,
      "outputs": [
        {
          "output_type": "execute_result",
          "data": {
            "text/plain": [
              "(3, 0)"
            ]
          },
          "metadata": {},
          "execution_count": 13
        }
      ]
    },
    {
      "cell_type": "code",
      "source": [
        "arr_data_img = arr_data_img.reshape((img_number, 64, 64, 1))\n",
        "arr_data_img = arr_data_img.astype('float32') / 255"
      ],
      "metadata": {
        "id": "vXGk8kQNoOQc"
      },
      "execution_count": 14,
      "outputs": []
    },
    {
      "cell_type": "code",
      "source": [
        "arr_label_img = arr_label_img.reshape((img_number, 64, 64, 1))\n",
        "arr_label_img = arr_label_img.astype('float32') / 255"
      ],
      "metadata": {
        "id": "LTphYp2T_WSt"
      },
      "execution_count": 15,
      "outputs": []
    },
    {
      "cell_type": "code",
      "source": [
        "X_train, X_valid, y_train, y_valid = train_test_split(arr_data_img, arr_label_img, test_size=0.15, random_state=2018)"
      ],
      "metadata": {
        "id": "CqHNydWuHfrc"
      },
      "execution_count": 16,
      "outputs": []
    },
    {
      "cell_type": "markdown",
      "source": [
        "Model training"
      ],
      "metadata": {
        "id": "som1dzcy4q0b"
      }
    },
    {
      "cell_type": "code",
      "source": [
        "input_img = Input((64, 64, 1))\n",
        "model = based_model(input_img)"
      ],
      "metadata": {
        "colab": {
          "base_uri": "https://localhost:8080/"
        },
        "id": "2ScsfS4QJdly",
        "outputId": "b5ce1f07-7c5c-4bf2-c061-17808ff1e26d"
      },
      "execution_count": 17,
      "outputs": [
        {
          "output_type": "stream",
          "name": "stdout",
          "text": [
            "Model: \"model\"\n",
            "_________________________________________________________________\n",
            " Layer (type)                Output Shape              Param #   \n",
            "=================================================================\n",
            " input_1 (InputLayer)        [(None, 64, 64, 1)]       0         \n",
            "                                                                 \n",
            " conv2d (Conv2D)             (None, 64, 64, 64)        640       \n",
            "                                                                 \n",
            " conv2d_1 (Conv2D)           (None, 64, 64, 64)        36928     \n",
            "                                                                 \n",
            " conv2d_2 (Conv2D)           (None, 64, 64, 64)        36928     \n",
            "                                                                 \n",
            " max_pooling2d (MaxPooling2D  (None, 32, 32, 64)       0         \n",
            " )                                                               \n",
            "                                                                 \n",
            " batch_normalization (BatchN  (None, 32, 32, 64)       256       \n",
            " ormalization)                                                   \n",
            "                                                                 \n",
            " dropout (Dropout)           (None, 32, 32, 64)        0         \n",
            "                                                                 \n",
            " up_sampling2d (UpSampling2D  (None, 64, 64, 64)       0         \n",
            " )                                                               \n",
            "                                                                 \n",
            " conv2d_3 (Conv2D)           (None, 64, 64, 16)        4112      \n",
            "                                                                 \n",
            " conv2d_4 (Conv2D)           (None, 64, 64, 1)         17        \n",
            "                                                                 \n",
            "=================================================================\n",
            "Total params: 78,881\n",
            "Trainable params: 78,753\n",
            "Non-trainable params: 128\n",
            "_________________________________________________________________\n"
          ]
        }
      ]
    },
    {
      "cell_type": "code",
      "source": [
        "results = model.fit(X_train, y_train, batch_size=32, epochs=60,\n",
        "                    validation_data=(X_valid, y_valid))"
      ],
      "metadata": {
        "colab": {
          "base_uri": "https://localhost:8080/"
        },
        "id": "JCPO4ZU6McYQ",
        "outputId": "7a1b6503-3cd3-40cc-bfcb-1eb22833e28c"
      },
      "execution_count": 18,
      "outputs": [
        {
          "output_type": "stream",
          "name": "stdout",
          "text": [
            "Epoch 1/60\n",
            "54/54 [==============================] - 109s 2s/step - loss: 0.3632 - accuracy: 0.9702 - val_loss: 0.3491 - val_accuracy: 0.9995\n",
            "Epoch 2/60\n",
            "54/54 [==============================] - 105s 2s/step - loss: 0.1231 - accuracy: 0.9938 - val_loss: 0.1927 - val_accuracy: 0.9995\n",
            "Epoch 3/60\n",
            "54/54 [==============================] - 106s 2s/step - loss: 0.0500 - accuracy: 0.9982 - val_loss: 0.1585 - val_accuracy: 0.9995\n",
            "Epoch 4/60\n",
            "54/54 [==============================] - 104s 2s/step - loss: 0.0274 - accuracy: 0.9991 - val_loss: 0.1197 - val_accuracy: 0.9995\n",
            "Epoch 5/60\n",
            "54/54 [==============================] - 104s 2s/step - loss: 0.0182 - accuracy: 0.9994 - val_loss: 0.0823 - val_accuracy: 0.9995\n",
            "Epoch 6/60\n",
            "54/54 [==============================] - 106s 2s/step - loss: 0.0136 - accuracy: 0.9995 - val_loss: 0.0502 - val_accuracy: 0.9995\n",
            "Epoch 7/60\n",
            "54/54 [==============================] - 104s 2s/step - loss: 0.0108 - accuracy: 0.9995 - val_loss: 0.0282 - val_accuracy: 0.9995\n",
            "Epoch 8/60\n",
            "54/54 [==============================] - 107s 2s/step - loss: 0.0089 - accuracy: 0.9995 - val_loss: 0.0154 - val_accuracy: 0.9995\n",
            "Epoch 9/60\n",
            "54/54 [==============================] - 105s 2s/step - loss: 0.0075 - accuracy: 0.9995 - val_loss: 0.0091 - val_accuracy: 0.9995\n",
            "Epoch 10/60\n",
            "54/54 [==============================] - 105s 2s/step - loss: 0.0065 - accuracy: 0.9995 - val_loss: 0.0061 - val_accuracy: 0.9995\n",
            "Epoch 11/60\n",
            "54/54 [==============================] - 107s 2s/step - loss: 0.0056 - accuracy: 0.9995 - val_loss: 0.0048 - val_accuracy: 0.9995\n",
            "Epoch 12/60\n",
            "54/54 [==============================] - 105s 2s/step - loss: 0.0050 - accuracy: 0.9995 - val_loss: 0.0040 - val_accuracy: 0.9995\n",
            "Epoch 13/60\n",
            "54/54 [==============================] - 106s 2s/step - loss: 0.0045 - accuracy: 0.9995 - val_loss: 0.0034 - val_accuracy: 0.9995\n",
            "Epoch 14/60\n",
            "54/54 [==============================] - 105s 2s/step - loss: 0.0040 - accuracy: 0.9995 - val_loss: 0.0030 - val_accuracy: 0.9995\n",
            "Epoch 15/60\n",
            "54/54 [==============================] - 106s 2s/step - loss: 0.0036 - accuracy: 0.9995 - val_loss: 0.0028 - val_accuracy: 0.9995\n",
            "Epoch 16/60\n",
            "54/54 [==============================] - 107s 2s/step - loss: 0.0033 - accuracy: 0.9995 - val_loss: 0.0025 - val_accuracy: 0.9995\n",
            "Epoch 17/60\n",
            "54/54 [==============================] - 105s 2s/step - loss: 0.0030 - accuracy: 0.9995 - val_loss: 0.0023 - val_accuracy: 0.9995\n",
            "Epoch 18/60\n",
            "54/54 [==============================] - 105s 2s/step - loss: 0.0028 - accuracy: 0.9995 - val_loss: 0.0022 - val_accuracy: 0.9995\n",
            "Epoch 19/60\n",
            "54/54 [==============================] - 104s 2s/step - loss: 0.0026 - accuracy: 0.9996 - val_loss: 0.0020 - val_accuracy: 0.9996\n",
            "Epoch 20/60\n",
            "54/54 [==============================] - 105s 2s/step - loss: 0.0024 - accuracy: 0.9996 - val_loss: 0.0018 - val_accuracy: 0.9996\n",
            "Epoch 21/60\n",
            "54/54 [==============================] - 104s 2s/step - loss: 0.0022 - accuracy: 0.9996 - val_loss: 0.0017 - val_accuracy: 0.9996\n",
            "Epoch 22/60\n",
            "54/54 [==============================] - 103s 2s/step - loss: 0.0021 - accuracy: 0.9996 - val_loss: 0.0015 - val_accuracy: 0.9997\n",
            "Epoch 23/60\n",
            "54/54 [==============================] - 105s 2s/step - loss: 0.0019 - accuracy: 0.9996 - val_loss: 0.0015 - val_accuracy: 0.9996\n",
            "Epoch 24/60\n",
            "54/54 [==============================] - 103s 2s/step - loss: 0.0018 - accuracy: 0.9996 - val_loss: 0.0013 - val_accuracy: 0.9997\n",
            "Epoch 25/60\n",
            "54/54 [==============================] - 105s 2s/step - loss: 0.0017 - accuracy: 0.9996 - val_loss: 0.0013 - val_accuracy: 0.9997\n",
            "Epoch 26/60\n",
            "54/54 [==============================] - 104s 2s/step - loss: 0.0016 - accuracy: 0.9997 - val_loss: 0.0011 - val_accuracy: 0.9997\n",
            "Epoch 27/60\n",
            "54/54 [==============================] - 103s 2s/step - loss: 0.0015 - accuracy: 0.9997 - val_loss: 0.0010 - val_accuracy: 0.9998\n",
            "Epoch 28/60\n",
            "54/54 [==============================] - 104s 2s/step - loss: 0.0014 - accuracy: 0.9997 - val_loss: 9.5404e-04 - val_accuracy: 0.9997\n",
            "Epoch 29/60\n",
            "54/54 [==============================] - 103s 2s/step - loss: 0.0014 - accuracy: 0.9997 - val_loss: 9.2465e-04 - val_accuracy: 0.9998\n",
            "Epoch 30/60\n",
            "54/54 [==============================] - 104s 2s/step - loss: 0.0013 - accuracy: 0.9997 - val_loss: 8.4480e-04 - val_accuracy: 0.9998\n",
            "Epoch 31/60\n",
            "54/54 [==============================] - 103s 2s/step - loss: 0.0013 - accuracy: 0.9997 - val_loss: 8.0108e-04 - val_accuracy: 0.9998\n",
            "Epoch 32/60\n",
            "54/54 [==============================] - 105s 2s/step - loss: 0.0012 - accuracy: 0.9997 - val_loss: 7.3120e-04 - val_accuracy: 0.9999\n",
            "Epoch 33/60\n",
            "54/54 [==============================] - 103s 2s/step - loss: 0.0011 - accuracy: 0.9997 - val_loss: 6.9938e-04 - val_accuracy: 0.9999\n",
            "Epoch 34/60\n",
            "54/54 [==============================] - 103s 2s/step - loss: 0.0011 - accuracy: 0.9997 - val_loss: 6.6031e-04 - val_accuracy: 0.9999\n",
            "Epoch 35/60\n",
            "54/54 [==============================] - 104s 2s/step - loss: 0.0011 - accuracy: 0.9997 - val_loss: 6.2426e-04 - val_accuracy: 0.9999\n",
            "Epoch 36/60\n",
            "54/54 [==============================] - 103s 2s/step - loss: 0.0010 - accuracy: 0.9998 - val_loss: 6.0321e-04 - val_accuracy: 0.9999\n",
            "Epoch 37/60\n",
            "54/54 [==============================] - 104s 2s/step - loss: 9.9179e-04 - accuracy: 0.9998 - val_loss: 5.9139e-04 - val_accuracy: 0.9999\n",
            "Epoch 38/60\n",
            "54/54 [==============================] - 103s 2s/step - loss: 9.5697e-04 - accuracy: 0.9998 - val_loss: 5.5108e-04 - val_accuracy: 0.9999\n",
            "Epoch 39/60\n",
            "54/54 [==============================] - 105s 2s/step - loss: 9.0096e-04 - accuracy: 0.9998 - val_loss: 5.2184e-04 - val_accuracy: 0.9999\n",
            "Epoch 40/60\n",
            "54/54 [==============================] - 103s 2s/step - loss: 8.8627e-04 - accuracy: 0.9998 - val_loss: 4.9207e-04 - val_accuracy: 0.9999\n",
            "Epoch 41/60\n",
            "54/54 [==============================] - 104s 2s/step - loss: 8.5767e-04 - accuracy: 0.9998 - val_loss: 4.8208e-04 - val_accuracy: 0.9999\n",
            "Epoch 42/60\n",
            "54/54 [==============================] - 103s 2s/step - loss: 8.1152e-04 - accuracy: 0.9998 - val_loss: 4.4532e-04 - val_accuracy: 0.9999\n",
            "Epoch 43/60\n",
            "54/54 [==============================] - 103s 2s/step - loss: 7.9631e-04 - accuracy: 0.9998 - val_loss: 4.4274e-04 - val_accuracy: 0.9999\n",
            "Epoch 44/60\n",
            "54/54 [==============================] - 105s 2s/step - loss: 7.7177e-04 - accuracy: 0.9998 - val_loss: 4.2627e-04 - val_accuracy: 0.9999\n",
            "Epoch 45/60\n",
            "54/54 [==============================] - 103s 2s/step - loss: 7.3511e-04 - accuracy: 0.9998 - val_loss: 4.7680e-04 - val_accuracy: 0.9999\n",
            "Epoch 46/60\n",
            "54/54 [==============================] - 105s 2s/step - loss: 7.1765e-04 - accuracy: 0.9998 - val_loss: 3.9379e-04 - val_accuracy: 0.9999\n",
            "Epoch 47/60\n",
            "54/54 [==============================] - 103s 2s/step - loss: 6.9022e-04 - accuracy: 0.9998 - val_loss: 3.7059e-04 - val_accuracy: 0.9999\n",
            "Epoch 48/60\n",
            "54/54 [==============================] - 105s 2s/step - loss: 6.8639e-04 - accuracy: 0.9998 - val_loss: 3.7012e-04 - val_accuracy: 0.9999\n",
            "Epoch 49/60\n",
            "54/54 [==============================] - 103s 2s/step - loss: 6.6768e-04 - accuracy: 0.9998 - val_loss: 3.2679e-04 - val_accuracy: 0.9999\n",
            "Epoch 50/60\n",
            "54/54 [==============================] - 103s 2s/step - loss: 6.3033e-04 - accuracy: 0.9999 - val_loss: 3.3814e-04 - val_accuracy: 0.9999\n",
            "Epoch 51/60\n",
            "54/54 [==============================] - 104s 2s/step - loss: 6.0973e-04 - accuracy: 0.9999 - val_loss: 3.3257e-04 - val_accuracy: 0.9999\n",
            "Epoch 52/60\n",
            "54/54 [==============================] - 103s 2s/step - loss: 5.9575e-04 - accuracy: 0.9999 - val_loss: 3.0272e-04 - val_accuracy: 1.0000\n",
            "Epoch 53/60\n",
            "54/54 [==============================] - 105s 2s/step - loss: 5.8205e-04 - accuracy: 0.9999 - val_loss: 3.0432e-04 - val_accuracy: 0.9999\n",
            "Epoch 54/60\n",
            "54/54 [==============================] - 103s 2s/step - loss: 5.6927e-04 - accuracy: 0.9999 - val_loss: 2.8453e-04 - val_accuracy: 1.0000\n",
            "Epoch 55/60\n",
            "54/54 [==============================] - 104s 2s/step - loss: 5.5002e-04 - accuracy: 0.9999 - val_loss: 2.8500e-04 - val_accuracy: 1.0000\n",
            "Epoch 56/60\n",
            "54/54 [==============================] - 103s 2s/step - loss: 5.3591e-04 - accuracy: 0.9999 - val_loss: 2.7157e-04 - val_accuracy: 1.0000\n",
            "Epoch 57/60\n",
            "54/54 [==============================] - 104s 2s/step - loss: 5.1662e-04 - accuracy: 0.9999 - val_loss: 2.6536e-04 - val_accuracy: 0.9999\n",
            "Epoch 58/60\n",
            "54/54 [==============================] - 103s 2s/step - loss: 5.0801e-04 - accuracy: 0.9999 - val_loss: 2.4233e-04 - val_accuracy: 1.0000\n",
            "Epoch 59/60\n",
            "54/54 [==============================] - 104s 2s/step - loss: 4.9572e-04 - accuracy: 0.9999 - val_loss: 2.3228e-04 - val_accuracy: 1.0000\n",
            "Epoch 60/60\n",
            "54/54 [==============================] - 103s 2s/step - loss: 4.7252e-04 - accuracy: 0.9999 - val_loss: 2.3882e-04 - val_accuracy: 1.0000\n"
          ]
        }
      ]
    },
    {
      "cell_type": "markdown",
      "source": [
        "Plot of loss function"
      ],
      "metadata": {
        "id": "1ZOL4uWM4tsU"
      }
    },
    {
      "cell_type": "code",
      "source": [
        "plt.figure(figsize=(8, 8))\n",
        "plt.title(\"Learning curve\")\n",
        "plt.plot(results.history[\"loss\"], label=\"loss\")\n",
        "plt.plot(results.history[\"val_loss\"], label=\"val_loss\")\n",
        "plt.plot( np.argmin(results.history[\"val_loss\"]), np.min(results.history[\"val_loss\"]), marker=\"x\", color=\"r\", label=\"best model\")\n",
        "plt.xlabel(\"Epochs\")\n",
        "plt.ylabel(\"log_loss\")\n",
        "plt.legend()"
      ],
      "metadata": {
        "colab": {
          "base_uri": "https://localhost:8080/",
          "height": 531
        },
        "id": "L3h9DwQhcbyE",
        "outputId": "04217f2d-409a-42d1-d408-bef2f2cb7607"
      },
      "execution_count": 24,
      "outputs": [
        {
          "output_type": "execute_result",
          "data": {
            "text/plain": [
              "<matplotlib.legend.Legend at 0x7f8e0b9ee250>"
            ]
          },
          "metadata": {},
          "execution_count": 24
        },
        {
          "output_type": "display_data",
          "data": {
            "text/plain": [
              "<Figure size 576x576 with 1 Axes>"
            ],
            "image/png": "[encoded data removed]"
          },
          "metadata": {
            "needs_background": "light"
          }
        }
      ]
    },
    {
      "cell_type": "markdown",
      "source": [
        "Model evaluation"
      ],
      "metadata": {
        "id": "Y80PkRVm40YW"
      }
    },
    {
      "cell_type": "code",
      "source": [
        "model.evaluate(X_valid, y_valid, verbose=1)"
      ],
      "metadata": {
        "colab": {
          "base_uri": "https://localhost:8080/"
        },
        "id": "Kx2K7fINcnRh",
        "outputId": "9042b965-7811-4a51-b60d-bbc4184a0dd0"
      },
      "execution_count": 25,
      "outputs": [
        {
          "output_type": "stream",
          "name": "stdout",
          "text": [
            "10/10 [==============================] - 5s 534ms/step - loss: 0.0016 - accuracy: 0.9997\n"
          ]
        },
        {
          "output_type": "execute_result",
          "data": {
            "text/plain": [
              "[0.0016026865923777223, 0.9996687769889832]"
            ]
          },
          "metadata": {},
          "execution_count": 25
        }
      ]
    },
    {
      "cell_type": "markdown",
      "source": [
        "Predicting"
      ],
      "metadata": {
        "id": "ihpwp1Gh42iP"
      }
    },
    {
      "cell_type": "code",
      "source": [
        "preds_train = model.predict(X_train, verbose=1)\n",
        "preds_val = model.predict(X_valid, verbose=1)"
      ],
      "metadata": {
        "colab": {
          "base_uri": "https://localhost:8080/"
        },
        "id": "iF03Jni9ct89",
        "outputId": "6ae94017-31bd-445a-d406-347f746dfbd1"
      },
      "execution_count": 26,
      "outputs": [
        {
          "output_type": "stream",
          "name": "stdout",
          "text": [
            "54/54 [==============================] - 24s 436ms/step\n",
            "10/10 [==============================] - 4s 408ms/step\n"
          ]
        }
      ]
    },
    {
      "cell_type": "code",
      "source": [
        "print('Image of line from training set:')\n",
        "cv2_imshow(X_train[643] * 255)\n",
        "print('Image of edgepoints from training set:')\n",
        "cv2_imshow(y_train[643] * 255)\n",
        "print('Predicted image of edgepoints from training set:')\n",
        "cv2_imshow(preds_train[643] * 255)"
      ],
      "metadata": {
        "colab": {
          "base_uri": "https://localhost:8080/",
          "height": 263
        },
        "id": "DDbjNPdc4JXP",
        "outputId": "0825b40e-7005-492a-8eae-549e04855af5"
      },
      "execution_count": 580,
      "outputs": [
        {
          "output_type": "stream",
          "name": "stdout",
          "text": [
            "Image of line from training set:\n"
          ]
        },
        {
          "output_type": "display_data",
          "data": {
            "text/plain": [
              "<PIL.Image.Image image mode=RGB size=64x64 at 0x7F8E07883610>"
            ],
            "image/png": "[encoded data removed]"
          },
          "metadata": {}
        },
        {
          "output_type": "stream",
          "name": "stdout",
          "text": [
            "Image of edgepoints from training set:\n"
          ]
        },
        {
          "output_type": "display_data",
          "data": {
            "text/plain": [
              "<PIL.Image.Image image mode=RGB size=64x64 at 0x7F8E07883050>"
            ],
            "image/png": "[encoded data removed]"
          },
          "metadata": {}
        },
        {
          "output_type": "stream",
          "name": "stdout",
          "text": [
            "Predicted image of edgepoints from training set:\n"
          ]
        },
        {
          "output_type": "display_data",
          "data": {
            "text/plain": [
              "<PIL.Image.Image image mode=RGB size=64x64 at 0x7F8E07883850>"
            ],
            "image/png": "[encoded data removed]"
          },
          "metadata": {}
        }
      ]
    },
    {
      "cell_type": "code",
      "source": [
        "print('Image of line from validation set:')\n",
        "cv2_imshow(X_valid[78] * 255)\n",
        "print('Image of edgepoints from validation set:')\n",
        "cv2_imshow(y_valid[78] * 255)\n",
        "print('Predicted image of edgepoints from validation set:')\n",
        "cv2_imshow(preds_val[78] * 255)"
      ],
      "metadata": {
        "colab": {
          "base_uri": "https://localhost:8080/",
          "height": 263
        },
        "id": "zSKr52k4pz-l",
        "outputId": "8cf7c4e4-806c-4a30-b123-a4fe1afed112"
      },
      "execution_count": 579,
      "outputs": [
        {
          "output_type": "stream",
          "name": "stdout",
          "text": [
            "Image of line from validation set:\n"
          ]
        },
        {
          "output_type": "display_data",
          "data": {
            "text/plain": [
              "<PIL.Image.Image image mode=RGB size=64x64 at 0x7F8E079E4250>"
            ],
            "image/png": "[encoded data removed]"
          },
          "metadata": {}
        },
        {
          "output_type": "stream",
          "name": "stdout",
          "text": [
            "Image of edgepoints from validation set:\n"
          ]
        },
        {
          "output_type": "display_data",
          "data": {
            "text/plain": [
              "<PIL.Image.Image image mode=RGB size=64x64 at 0x7F8E079E4250>"
            ],
            "image/png": "[encoded data removed]"
          },
          "metadata": {}
        },
        {
          "output_type": "stream",
          "name": "stdout",
          "text": [
            "Predicted image of edgepoints from validation set:\n"
          ]
        },
        {
          "output_type": "display_data",
          "data": {
            "text/plain": [
              "<PIL.Image.Image image mode=RGB size=64x64 at 0x7F8E079E4A10>"
            ],
            "image/png": "[encoded data removed]"
          },
          "metadata": {}
        }
      ]
    },
    {
      "cell_type": "markdown",
      "source": [
        "Saving model"
      ],
      "metadata": {
        "id": "jOgke6Sp493T"
      }
    },
    {
      "cell_type": "code",
      "source": [
        "model.save('walksee_task_model.h5')"
      ],
      "metadata": {
        "id": "4OntKWiE49ar"
      },
      "execution_count": null,
      "outputs": []
    },
    {
      "cell_type": "markdown",
      "source": [
        "Testing model"
      ],
      "metadata": {
        "id": "xnAMIncy4_HK"
      }
    },
    {
      "cell_type": "code",
      "source": [
        "model_test_function()"
      ],
      "metadata": {
        "id": "jxUdiSnddZlt",
        "colab": {
          "base_uri": "https://localhost:8080/",
          "height": 272
        },
        "outputId": "84879143-7b05-4e91-dcda-4032262e5128"
      },
      "execution_count": 582,
      "outputs": [
        {
          "output_type": "stream",
          "name": "stdout",
          "text": [
            "1/1 [==============================] - 0s 42ms/step\n",
            "Image of random line to predict:\n"
          ]
        },
        {
          "output_type": "display_data",
          "data": {
            "text/plain": [
              "<PIL.Image.Image image mode=RGB size=64x64 at 0x7F8E0781DB50>"
            ],
            "image/png": "[encoded data removed]"
          },
          "metadata": {}
        },
        {
          "output_type": "stream",
          "name": "stdout",
          "text": [
            "Predicted image with edgepoints:\n"
          ]
        },
        {
          "output_type": "display_data",
          "data": {
            "text/plain": [
              "<PIL.Image.Image image mode=RGB size=64x64 at 0x7F8E07A3CA90>"
            ],
            "image/png": "[encoded data removed]"
          },
          "metadata": {}
        },
        {
          "output_type": "stream",
          "name": "stdout",
          "text": [
            "Number of tries: 18\n",
            "Final factor: 0.84\n",
            "Predicted points: (53, 44), (0, 8)\n",
            "Actual points: (53, 44), (0, 8)\n"
          ]
        }
      ]
    }
  ]
}